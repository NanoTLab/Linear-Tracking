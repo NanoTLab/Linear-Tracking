{
 "cells": [
  {
   "cell_type": "markdown",
   "id": "78e572e8",
   "metadata": {},
   "source": [
    "# Linear Paul Trap Tracking algorithm\n",
    "\n",
    "Code useful to treat videos from Linear Paul trap experiments.\n",
    "\n",
    "Apart from things that come with Anaconda, one might need to install trackpy and its dependency, pims (to handle videos):\n",
    "\n",
    "- conda update conda\n",
    "- conda install -c conda-forge trackpy\n",
    "- conda install -c conda-forge pims\n",
    "\n",
    "#### Based on Trackpy Library,  more information on:\n",
    "\n",
    "http://soft-matter.github.io/trackpy/dev/installation.html\n"
   ]
  },
  {
   "cell_type": "markdown",
   "id": "27d9a9a1",
   "metadata": {},
   "source": [
    "## Imports"
   ]
  },
  {
   "cell_type": "code",
   "execution_count": null,
   "id": "7c301de2",
   "metadata": {},
   "outputs": [],
   "source": [
    "# -*- coding: utf-8 -*-\n",
    "\n",
    "import matplotlib.pyplot as plt\n",
    "\n",
    "import numpy as np\n",
    "import pandas as pd\n",
    "from pandas import DataFrame, Series\n",
    "from scipy import signal\n",
    "\n",
    "import pims\n",
    "import trackpy as tp\n",
    "\n",
    "import multiprocessing as mpr"
   ]
  },
  {
   "cell_type": "markdown",
   "id": "c91d3331",
   "metadata": {},
   "source": [
    "## Functions"
   ]
  },
  {
   "cell_type": "code",
   "execution_count": null,
   "id": "3f4b2edd",
   "metadata": {},
   "outputs": [],
   "source": [
    "def customlocate(arg):\n",
    "    '''\n",
    "    Function to replace multiprocessing done by tp.batch function \n",
    "    in case it throws any errors. \n",
    "    '''\n",
    "    faux = tp.locate(arg, psize, minmass=minmass, invert=inv)\n",
    "    shared_f.append(faux)\n",
    "\n",
    "@pims.pipeline\n",
    "def as_gray(frame):\n",
    "    '''\n",
    "    Function to define how PIMS library deals with color videos to get\n",
    "    grayscale images needed for the algorithm to work.\n",
    "    '''\n",
    "    red = frame[:, :, 0]\n",
    "    green = frame[:, :, 1]\n",
    "    blue = frame[:, :, 2]\n",
    "    return 0.3 * red + 0.4 * green + 0.3 * blue\n",
    "    #return green\n",
    "    \n",
    "@pims.pipeline\n",
    "def crop(img, a, b, c, d):\n",
    "    \"\"\"\n",
    "    Crop the image to select the region of interest\n",
    "    \"\"\"\n",
    "    x_min = a\n",
    "    x_max = b\n",
    "    y_min = c\n",
    "    y_max = d\n",
    "    return img[y_min:y_max,x_min:x_max]    "
   ]
  },
  {
   "cell_type": "markdown",
   "id": "ce820a54",
   "metadata": {},
   "source": [
    "## Inputs"
   ]
  },
  {
   "cell_type": "code",
   "execution_count": null,
   "id": "77e92700",
   "metadata": {},
   "outputs": [],
   "source": [
    "# Full path to source. Must end in name.extension if video or in *.ext is img sequence\n",
    "vsrc = '/home/raulrica/Documentos/TESTS/Linear_Paul_Trap/PABLO/transitorio_1Hz.avi'\n",
    "\n",
    "# Swap this two lines if already loading a grayscale image \n",
    "frames = as_gray(pims.open(vsrc))\n",
    "#frames = pims.open(vsrc)          \n",
    "\n",
    "%matplotlib notebook\n",
    "plt.figure()\n",
    "plt.imshow(50*frames[0], cmap='gray', vmin=0,vmax=255)"
   ]
  },
  {
   "cell_type": "markdown",
   "id": "ea28b1f2",
   "metadata": {},
   "source": [
    "## Distance scaling photo"
   ]
  },
  {
   "cell_type": "code",
   "execution_count": null,
   "id": "22201329",
   "metadata": {},
   "outputs": [],
   "source": [
    "imgpath = '/home/raulrica/Documentos/TESTS/Linear_Paul_Trap/PABLO/scale_photo.bmp'\n",
    "img = plt.imread(imgpath)\n",
    "plt.figure(); plt.imshow(img)"
   ]
  },
  {
   "cell_type": "code",
   "execution_count": null,
   "id": "9236bb1d",
   "metadata": {},
   "outputs": [],
   "source": [
    "# Region of Interest Selection: y axis goes from yt to yb; x axis go from xl to xr \n",
    "yt = 130\n",
    "yb = 250\n",
    "xl = 300\n",
    "xr = 1600\n",
    "\n",
    "frames = crop(frames, xl, xr, yt, yb)\n",
    "\n",
    "#Temporal and spatial scaling\n",
    "scale = 1.2/65   #mm/px\n",
    "fps=100\n",
    "\n",
    "\n",
    "apsize =  3                                 #approximated measured size of particle in pixels\n",
    "psize  =  int(1.15*apsize)+1                #correction not to fall short\n",
    "psize  =  psize if psize%2!=0 else psize+1  #making it odd for the algorithm\n",
    "\n",
    "#Particle filtering\n",
    "inv   = False    # colors inversion - False = look for bright spots in dark background\n",
    "xch   = False    # extra characterization: eccentricity, signal..."
   ]
  },
  {
   "cell_type": "markdown",
   "id": "e91591ae",
   "metadata": {},
   "source": [
    "## Test Detection"
   ]
  },
  {
   "cell_type": "code",
   "execution_count": null,
   "id": "49c0d954",
   "metadata": {},
   "outputs": [],
   "source": [
    "# Locate characteristics in the test frame:\n",
    "f = tp.locate(frames[0], \n",
    "              psize, \n",
    "              invert= inv, \n",
    "              characterize = xch)\n",
    "\n",
    "#Plot to check if some further tuning is needed\n",
    "plt.figure()\n",
    "plt.axis('off')\n",
    "plt.imshow(frames[0], cmap='gray')\n",
    "plt.plot(f['x'], f['y'],\n",
    "         'o',\n",
    "         markersize = psize,\n",
    "         markerfacecolor='none',\n",
    "          )"
   ]
  },
  {
   "cell_type": "markdown",
   "id": "2ea5aa6a",
   "metadata": {},
   "source": [
    "## Brightness over time"
   ]
  },
  {
   "cell_type": "code",
   "execution_count": null,
   "id": "3d3fc6f0",
   "metadata": {},
   "outputs": [],
   "source": [
    "f2check = np.random.choice(np.arange(0,len(frames)),  # within all frames\n",
    "                           np.min((20,len(frames))),  # take 20 (at most) randomly,\n",
    "                           replace=True)              # non repeated,\n",
    "f2check = np.sort(f2check)                            # and ordered \n",
    "\n",
    "\n",
    "#Check how brightness of the most (and less) bright particle detected change in time:     \n",
    "first = []\n",
    "last  = []\n",
    "for i in f2check:\n",
    "    print(\"checking frame no \", i)\n",
    "    f = tp.locate(frames[i], psize, invert= inv, \n",
    "                                      characterize = xch)\n",
    "    first.append(np.max(f['mass']))\n",
    "    try:\n",
    "        last.append(np.min(f['mass']))\n",
    "    except:\n",
    "        pass\n",
    "plt.figure()\n",
    "plt.plot(first)\n",
    "plt.plot(last)    \n",
    "plt.show()"
   ]
  },
  {
   "cell_type": "markdown",
   "id": "addc5ed6",
   "metadata": {},
   "source": [
    "## Batch Detection and Trajectory Link"
   ]
  },
  {
   "cell_type": "code",
   "execution_count": null,
   "id": "3df4a445",
   "metadata": {},
   "outputs": [],
   "source": [
    "minmass = 100\n",
    "\n",
    "maxdis =  10  # max displacement estimated for the particles to track\n",
    "mem    =  50  # number of frames a particle can be gone for before reapearing\n",
    "\n",
    "sf     =  3500   # start frame\n",
    "ef     =  8000 # end frame, -1 for full video\n",
    "\n",
    "try:\n",
    "    f = tp.batch(frames[sf:ef], psize, \n",
    "                                invert= inv,\n",
    "                                characterize = xch,\n",
    "                                minmass = minmass,\n",
    "                                processes = 'auto')\n",
    "except Exception as e:\n",
    "    print(e)\n",
    "    print('\\nTrying custom pool now...')\n",
    "    try: \n",
    "        manager = mpr.Manager()\n",
    "        shared_f = manager.list()\n",
    "        pool = mpr.Pool()\n",
    "        pool.imap(customlocate, frames[sf:ef], chunksize = 10)\n",
    "        pool.close()\n",
    "        pool.join()\n",
    "        f = pd.concat(shared_f, sort=False) \n",
    "        \n",
    "    except Exception as e:\n",
    "        print(e)\n",
    "        print('\\nEverything failed. Trying Single Core Processing...') \n",
    "        f = tp.batch(frames[sf:ef], psize, \n",
    "                                    invert = inv,\n",
    "                                    characterize = xch,\n",
    "                                    minmass = minmass,\n",
    "                                    processes = 1)\n",
    "  \n",
    "print(\"Batch Detection done between frames \", sf, \" and \", ef)\n"
   ]
  },
  {
   "cell_type": "code",
   "execution_count": null,
   "id": "1a3be3c5",
   "metadata": {},
   "outputs": [],
   "source": [
    "traw = tp.link(f, maxdis, memory=mem)\n",
    "plt.figure()\n",
    "tp.plot_traj(traw,label = True)\n",
    "#plt.gca().set_aspect('equal', 'box')"
   ]
  },
  {
   "cell_type": "markdown",
   "id": "4f4cf093",
   "metadata": {},
   "source": [
    "## Trajectory Filtering"
   ]
  },
  {
   "cell_type": "code",
   "execution_count": null,
   "id": "3ce8999a",
   "metadata": {
    "scrolled": false
   },
   "outputs": [],
   "source": [
    "# First we remove spurious trajectories that appear only during sptime (like dust particle that\n",
    "# randomly cross experiment area\n",
    "t = tp.filter_stubs(traw, 1000)\n",
    "\n",
    "plt.figure()\n",
    "plt.title(\"Spurious Removed\")\n",
    "tp.plot_traj(t,label = True)\n",
    "\n",
    "#Then we compute overall drift (due to air currents)\n",
    "# Note that depending on the experiment one might want to not remove this effect if, e.g. a joint \n",
    "# movement of the particles is expected\n",
    "d = tp.compute_drift(t)\n",
    "plt.figure(); plt.plot(d)\n",
    "\n",
    "t = tp.subtract_drift(t.copy(), d)\n",
    "\n",
    "plt.figure()\n",
    "plt.title(\"Drift Corrected\")\n",
    "tp.plot_traj(t,label = True)"
   ]
  },
  {
   "cell_type": "code",
   "execution_count": null,
   "id": "60dd854d",
   "metadata": {},
   "outputs": [],
   "source": [
    "t = t2"
   ]
  },
  {
   "cell_type": "markdown",
   "id": "8fc3f452",
   "metadata": {},
   "source": [
    "## Trajectory Output"
   ]
  },
  {
   "cell_type": "code",
   "execution_count": null,
   "id": "c117913b",
   "metadata": {},
   "outputs": [],
   "source": [
    "# Save the columns 'frame', 'x' and 'y' to a txt file in the same folder than the input video/img sequence.\n",
    "# If eccentricity, e.g is stored too, we can add it to the output by just expanding the list below to\n",
    "# t[['frame','x','y','ecc']].to_cs.....\n",
    "\n",
    "t[['frame','x','y']].to_csv(vsrc[:-4]+'_Trajectory.txt', \n",
    "                            sep='\\t', \n",
    "                            index=False, \n",
    "                            header = ['#columns: frame','x','y'])#False)"
   ]
  },
  {
   "cell_type": "markdown",
   "id": "e5a9cd57",
   "metadata": {},
   "source": [
    "## Basic data treatment"
   ]
  },
  {
   "cell_type": "code",
   "execution_count": null,
   "id": "24400133",
   "metadata": {},
   "outputs": [],
   "source": [
    "# Retrieve x and y traces of particle npart from the dataframe t and plotting the traces and position histograms \n",
    "bins = 30\n",
    "\n",
    "npart = 2\n",
    "taux  = t.loc[t['particle']==npart]\n",
    "\n",
    "time = taux['frame'].to_numpy()/fps\n",
    "x    = taux['x'].to_numpy()*scale\n",
    "y    = taux['y'].to_numpy()*scale\n",
    "\n",
    "fig, axs = plt.subplots(2, 2,num='Info')\n",
    "fig.tight_layout(pad=2)\n",
    "\n",
    "axs[0,0].set_xlabel('Posiciones x')\n",
    "axs[0,1].set_xlabel('Posiciones y')\n",
    "axs[0,0].plot(time,x,'o-')\n",
    "axs[0,1].plot(time,y)\n",
    "axs[1,0].hist(x, bins=bins)\n",
    "axs[1,1].hist(y, bins=bins)"
   ]
  },
  {
   "cell_type": "markdown",
   "id": "13b71521",
   "metadata": {},
   "source": [
    "## Further data treatment example:"
   ]
  },
  {
   "cell_type": "code",
   "execution_count": null,
   "id": "46fef560",
   "metadata": {},
   "outputs": [],
   "source": [
    "# We'll create a list of particles of interest and study their normalize axial position change over time relative \n",
    "# to their equilibrium position\n",
    "\n",
    "poi = [2, 5, 6, 4, 10, 8, 9, 12]\n",
    "\n",
    "# Generate a figure to plot every trace on it during the loop over particles\n",
    "plt.figure()\n",
    "plt.title(\"Deviation from equilibrium position for diferent particles\")\n",
    "\n",
    "amplst = []\n",
    "for p in poi:\n",
    "    taux = t.loc[t['particle']==p]\n",
    "    time = taux['frame'].to_numpy()/fps\n",
    "    x    = taux['x'].to_numpy()*scale\n",
    "    x = x-np.average(x[:500])\n",
    "    \n",
    "    amplst.append(0.5*(np.max(x)-np.min(x)))\n",
    "    plt.plot(time, x)\n",
    "\n",
    "amp = np.array(amplst) \n",
    "\n",
    "plt.figure()\n",
    "plt.title(\"Amplitude of motion vs position inside the chain\")\n",
    "plt.plot(amplst, 'o-')    "
   ]
  }
 ],
 "metadata": {
  "kernelspec": {
   "display_name": "Python 3 (ipykernel)",
   "language": "python",
   "name": "python3"
  },
  "language_info": {
   "codemirror_mode": {
    "name": "ipython",
    "version": 3
   },
   "file_extension": ".py",
   "mimetype": "text/x-python",
   "name": "python",
   "nbconvert_exporter": "python",
   "pygments_lexer": "ipython3",
   "version": "3.9.13"
  }
 },
 "nbformat": 4,
 "nbformat_minor": 5
}
